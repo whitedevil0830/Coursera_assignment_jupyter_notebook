{
 "cells": [
  {
   "cell_type": "markdown",
   "id": "25ea3800-223c-4caa-906e-2704bd7237a4",
   "metadata": {},
   "source": [
    "# Final Assignment"
   ]
  },
  {
   "cell_type": "markdown",
   "id": "76b873cd-b71a-415c-b304-1079b1b8d22d",
   "metadata": {},
   "source": [
    "## Introduction"
   ]
  },
  {
   "cell_type": "markdown",
   "id": "d53fdba2-af44-4a6d-b590-870f3d83fc18",
   "metadata": {},
   "source": [
    "## Data Science Languages\r\n",
    "\r\n",
    "- Python\r\n",
    "- R\r\n",
    "- SQL\r\n",
    "- Java\r\n",
    "- Scala\r\n",
    "- MATLAB"
   ]
  },
  {
   "cell_type": "markdown",
   "id": "13d23cbc-79e2-4913-acb5-5b149d8b45a0",
   "metadata": {},
   "source": [
    "## Data Science Libraries\n",
    "\n",
    "- Pandas\r\n",
    "- NumPy\r\n",
    "- Matplotlib\r\n",
    "- Scikit-learn\r\n",
    "- TensorFlow\r\n",
    "- Keras"
   ]
  },
  {
   "cell_type": "markdown",
   "id": "ae77d0e2-14cd-45d8-9f3a-d10d7fb6306b",
   "metadata": {},
   "source": [
    "| Tools        |\r\n",
    "|--------------|\r\n",
    "| Pandas       |\r\n",
    "| NumPy        |\r\n",
    "| Matplotlib   |\r\n",
    "| Scikit-learn |\r\n",
    "| TensorFlow   |\r\n",
    "| Keras        |"
   ]
  },
  {
   "cell_type": "markdown",
   "id": "97222d5c-e499-4bd4-90e0-543c968cac6d",
   "metadata": {},
   "source": [
    "## Arithmetic Expression Examples"
   ]
  },
  {
   "cell_type": "code",
   "execution_count": 12,
   "id": "6f64bfaa-e8d4-4e5e-b156-d9da3f3b8ca8",
   "metadata": {},
   "outputs": [
    {
     "name": "stdout",
     "output_type": "stream",
     "text": [
      "Multiplication result: 50\n",
      "Addition result: 15\n"
     ]
    }
   ],
   "source": [
    "# Multiply and add numbers\n",
    "num1 = 5\n",
    "num2 = 10\n",
    "\n",
    "# Multiplication\n",
    "result_mult = num1 * num2\n",
    "\n",
    "# Addition\n",
    "result_add = num1 + num2\n",
    "print(\"Multiplication result:\", result_mult)\n",
    "print(\"Addition result:\", result_add)"
   ]
  },
  {
   "cell_type": "code",
   "execution_count": 16,
   "id": "4bf42db2-1baa-4328-9797-5ca91e961912",
   "metadata": {},
   "outputs": [
    {
     "name": "stdout",
     "output_type": "stream",
     "text": [
      "120 minutes is equal to 2.0 hous\n"
     ]
    }
   ],
   "source": [
    "# Convert minutes to hours\n",
    "minutes = 120\n",
    "hours = minutes / 60\n",
    "print(minutes, \"minutes is equal to\", hours, \"hous\")"
   ]
  },
  {
   "cell_type": "markdown",
   "id": "787bdd0f-4908-4ece-8597-3a45d4894ede",
   "metadata": {},
   "source": [
    "## Objectives\n",
    "\n",
    "- Describe the components of a Data Scientist's toolkit and list various tool categories\n",
    "- List examples of open-source tools used in data science\n",
    "- Describe the relevant features of open-source tools\n",
    "- List examples of commercial and cloud-based data science tools"
   ]
  },
  {
   "cell_type": "markdown",
   "id": "537aa17a-6665-439c-bfe1-7f8e4d81b21a",
   "metadata": {
    "jp-MarkdownHeadingCollapsed": true
   },
   "source": [
    "## Author's Name\n",
    "Priyansu Mishra"
   ]
  },
  {
   "cell_type": "markdown",
   "id": "00f7d871-a173-4a29-95e0-ba0c987c3f85",
   "metadata": {},
   "source": [
    "## Github notebook link\n",
    "https://github.com/whitedevil0830/Coursera_assignment_jupyter_notebook.git"
   ]
  },
  {
   "cell_type": "code",
   "execution_count": null,
   "id": "3de717e5-0a4f-4762-9c8a-b558f6d42328",
   "metadata": {},
   "outputs": [],
   "source": []
  },
  {
   "cell_type": "code",
   "execution_count": null,
   "id": "16b298ec-e821-4765-8cb1-08b5da89a906",
   "metadata": {},
   "outputs": [],
   "source": []
  },
  {
   "cell_type": "code",
   "execution_count": null,
   "id": "271b2ef0-3825-4696-b5d9-dab93ee57cc1",
   "metadata": {},
   "outputs": [],
   "source": []
  },
  {
   "cell_type": "code",
   "execution_count": null,
   "id": "37b1116b-84e9-42fd-af0a-bee4bdd2867e",
   "metadata": {},
   "outputs": [],
   "source": []
  }
 ],
 "metadata": {
  "kernelspec": {
   "display_name": "Python 3 (ipykernel)",
   "language": "python",
   "name": "python3"
  },
  "language_info": {
   "codemirror_mode": {
    "name": "ipython",
    "version": 3
   },
   "file_extension": ".py",
   "mimetype": "text/x-python",
   "name": "python",
   "nbconvert_exporter": "python",
   "pygments_lexer": "ipython3",
   "version": "3.9.18"
  }
 },
 "nbformat": 4,
 "nbformat_minor": 5
}
